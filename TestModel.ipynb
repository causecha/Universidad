{
 "cells": [
  {
   "cell_type": "code",
   "execution_count": 1,
   "id": "ccf4703f",
   "metadata": {},
   "outputs": [
    {
     "data": {
      "text/plain": [
       "'0.24.2'"
      ]
     },
     "execution_count": 1,
     "metadata": {},
     "output_type": "execute_result"
    }
   ],
   "source": [
    "import numpy as np\n",
    "import pandas as pd\n",
    "import matplotlib.pyplot as plt\n",
    "import pickle\n",
    "import sklearn\n",
    "sklearn.__version__"
   ]
  },
  {
   "cell_type": "code",
   "execution_count": 2,
   "id": "93be0937",
   "metadata": {},
   "outputs": [],
   "source": [
    "# Cargamos el modelo\n",
    "pkl_filename = \"diabetes_model.pkl\"\n",
    "with open(pkl_filename, 'rb') as file:\n",
    "    model = pickle.load(file)"
   ]
  },
  {
   "cell_type": "code",
   "execution_count": 3,
   "id": "4291e265",
   "metadata": {},
   "outputs": [],
   "source": [
    "labels = ['Sano','Diabetes']"
   ]
  },
  {
   "cell_type": "code",
   "execution_count": 8,
   "id": "7f549d9b",
   "metadata": {},
   "outputs": [
    {
     "data": {
      "text/plain": [
       "(1, 8)"
      ]
     },
     "execution_count": 8,
     "metadata": {},
     "output_type": "execute_result"
    }
   ],
   "source": [
    "xin = np.array([1, 85, 66, 29, 0, 26.6, 0.351, 31])\n",
    "xin.shape"
   ]
  },
  {
   "cell_type": "code",
   "execution_count": 5,
   "id": "25ff6e1a",
   "metadata": {},
   "outputs": [
    {
     "data": {
      "text/plain": [
       "(1, 8)"
      ]
     },
     "execution_count": 5,
     "metadata": {},
     "output_type": "execute_result"
    }
   ],
   "source": [
    "xin = xin.reshape(1,8)\n",
    "xin.shape"
   ]
  },
  {
   "cell_type": "code",
   "execution_count": 6,
   "id": "95a100dc",
   "metadata": {},
   "outputs": [
    {
     "data": {
      "text/plain": [
       "array([0], dtype=int64)"
      ]
     },
     "execution_count": 6,
     "metadata": {},
     "output_type": "execute_result"
    }
   ],
   "source": [
    "yout = model.predict(xin)\n",
    "yout"
   ]
  },
  {
   "cell_type": "code",
   "execution_count": 7,
   "id": "5a19d073",
   "metadata": {},
   "outputs": [
    {
     "data": {
      "text/plain": [
       "'Sano'"
      ]
     },
     "execution_count": 7,
     "metadata": {},
     "output_type": "execute_result"
    }
   ],
   "source": [
    "labels[yout[0]]"
   ]
  },
  {
   "cell_type": "code",
   "execution_count": 66,
   "id": "ae4ce07d",
   "metadata": {},
   "outputs": [
    {
     "name": "stderr",
     "output_type": "stream",
     "text": [
      "  % Total    % Received % Xferd  Average Speed   Time    Time     Time  Current\n",
      "                                 Dload  Upload   Total   Spent    Left  Speed\n",
      "\n",
      "  0     0    0     0    0     0      0      0 --:--:-- --:--:-- --:--:--     0\n",
      "100    87  100    40  100    47    293    344 --:--:-- --:--:-- --:--:--   644\n"
     ]
    },
    {
     "name": "stdout",
     "output_type": "stream",
     "text": [
      "El paciente corresponde a la clase Sano\n"
     ]
    }
   ],
   "source": [
    "!curl -d \"{\\\"Datos\\\":[[1, 85, 66, 29, 0, 26.6, 0.351, 31]]}\" -H \"Content-Type: application/json\" -X POST http://127.0.0.1:5000/predecir"
   ]
  },
  {
   "cell_type": "code",
   "execution_count": 67,
   "id": "883db501",
   "metadata": {},
   "outputs": [
    {
     "name": "stdout",
     "output_type": "stream",
     "text": [
      "El paciente corresponde a la clase Diabetes\n"
     ]
    },
    {
     "name": "stderr",
     "output_type": "stream",
     "text": [
      "  % Total    % Received % Xferd  Average Speed   Time    Time     Time  Current\n",
      "                                 Dload  Upload   Total   Spent    Left  Speed\n",
      "\n",
      "  0     0    0     0    0     0      0      0 --:--:-- --:--:-- --:--:--     0\n",
      "100    85  100    44  100    41  13357  12446 --:--:-- --:--:-- --:--:-- 42500\n"
     ]
    }
   ],
   "source": [
    "!curl -d \"{\\\"Datos\\\":[[6,148,72,35,0,33.6,0.627,50]]}\" -H \"Content-Type: application/json\" -X POST http://127.0.0.1:5000/predecir"
   ]
  },
  {
   "cell_type": "code",
   "execution_count": 70,
   "id": "2aa27e3c",
   "metadata": {},
   "outputs": [
    {
     "name": "stderr",
     "output_type": "stream",
     "text": [
      "  % Total    % Received % Xferd  Average Speed   Time    Time     Time  Current\n",
      "                                 Dload  Upload   Total   Spent    Left  Speed\n",
      "\n",
      "  0     0    0     0    0     0      0      0 --:--:-- --:--:-- --:--:--     0\n",
      "  0     0    0     0    0     0      0      0 --:--:--  0:00:01 --:--:--     0\n",
      "  0     0    0     0    0     0      0      0 --:--:--  0:00:02 --:--:--     0\n",
      "curl: (7) Failed to connect to 127.0.0.1 port 5000 after 2011 ms: Connection refused\n"
     ]
    }
   ],
   "source": [
    "!curl -d \"{\\\"Datos\\\":[[1, 85, 66, 29, 0, 26.6, 0.351, 31],[6,148,72,35,0,33.6,0.627,50]]}\" -H \"Content-Type: application/json\" -X POST http://127.0.0.1:5000/predecir"
   ]
  },
  {
   "cell_type": "code",
   "execution_count": 69,
   "id": "d9c306c1",
   "metadata": {},
   "outputs": [
    {
     "name": "stdout",
     "output_type": "stream",
     "text": [
      "El paciente corresponde a la clase Sano\n"
     ]
    },
    {
     "name": "stderr",
     "output_type": "stream",
     "text": [
      "  % Total    % Received % Xferd  Average Speed   Time    Time     Time  Current\n",
      "                                 Dload  Upload   Total   Spent    Left  Speed\n",
      "\n",
      "  0     0    0     0    0     0      0      0 --:--:-- --:--:-- --:--:--     0\n",
      "  0     0    0     0    0     0      0      0 --:--:-- --:--:-- --:--:--     0\n",
      "100    87  100    40  100    47     41     48 --:--:-- --:--:-- --:--:--    90\n"
     ]
    }
   ],
   "source": [
    "!curl -d \"{\\\"Datos\\\":[[1, 85, 66, 29, 0, 26.6, 0.351, 31]]}\" -H \"Content-Type: application/json\" -X POST https://diabetes-mp.herokuapp.com//predecir"
   ]
  },
  {
   "cell_type": "code",
   "execution_count": 71,
   "id": "e07d9548",
   "metadata": {},
   "outputs": [
    {
     "name": "stdout",
     "output_type": "stream",
     "text": [
      "El paciente corresponde a la clase Sano\n",
      "El paciente corresponde a la clase Diabetes\n"
     ]
    },
    {
     "name": "stderr",
     "output_type": "stream",
     "text": [
      "  % Total    % Received % Xferd  Average Speed   Time    Time     Time  Current\n",
      "                                 Dload  Upload   Total   Spent    Left  Speed\n",
      "\n",
      "  0     0    0     0    0     0      0      0 --:--:-- --:--:-- --:--:--     0\n",
      "100   161  100    84  100    77    145    133 --:--:-- --:--:-- --:--:--   280\n"
     ]
    }
   ],
   "source": [
    "!curl -d \"{\\\"Datos\\\":[[1, 85, 66, 29, 0, 26.6, 0.351, 31],[6,148,72,35,0,33.6,0.627,50]]}\" -H \"Content-Type: application/json\" -X POST https://diabetes-mp.herokuapp.com//predecir"
   ]
  },
  {
   "cell_type": "code",
   "execution_count": null,
   "id": "ab2cd907",
   "metadata": {},
   "outputs": [],
   "source": []
  }
 ],
 "metadata": {
  "kernelspec": {
   "display_name": "entornomp",
   "language": "python",
   "name": "entornomp"
  },
  "language_info": {
   "codemirror_mode": {
    "name": "ipython",
    "version": 3
   },
   "file_extension": ".py",
   "mimetype": "text/x-python",
   "name": "python",
   "nbconvert_exporter": "python",
   "pygments_lexer": "ipython3",
   "version": "3.7.10"
  }
 },
 "nbformat": 4,
 "nbformat_minor": 5
}
